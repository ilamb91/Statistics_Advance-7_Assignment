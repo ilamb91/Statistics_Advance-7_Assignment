{
 "cells": [
  {
   "cell_type": "markdown",
   "id": "cb30af66-4177-4edc-b296-0b8df7d98404",
   "metadata": {},
   "source": [
    "# Q1. Write a Python function that takes in two arrays of data and calculates the F-value for a variance ratio test. The function should return the F-value and the corresponding p-value for the test."
   ]
  },
  {
   "cell_type": "code",
   "execution_count": 1,
   "id": "cae04cc3-1f45-483d-ae54-bcbfe59d98e2",
   "metadata": {},
   "outputs": [
    {
     "name": "stdout",
     "output_type": "stream",
     "text": [
      "F-value: 2.3606557377049184\n",
      "p-value: 0.2129339968949956\n"
     ]
    }
   ],
   "source": [
    "import numpy as np\n",
    "import scipy.stats as stats\n",
    "def variance_ratio_test(data1, data2):\n",
    "    \"\"\"\n",
    "    Perform a variance ratio test (F-test) for equal variances between two datasets.\n",
    "    Parameters:\n",
    "    data1 (array-like): The first dataset.\n",
    "    data2 (array-like): The second dataset.\n",
    "    Returns:\n",
    "    f_value (float): The calculated F-value.\n",
    "    p_value (float): The corresponding p-value for the test.\n",
    "    \"\"\"\n",
    "    # Calculate the sample variances for both datasets\n",
    "    var1 = np.var(data1, ddof=1)  # ddof=1 for sample variance\n",
    "    var2 = np.var(data2, ddof=1)\n",
    "    # Ensure var1 is the larger variance\n",
    "    if var2 > var1:\n",
    "        var1, var2 = var2, var1\n",
    "    # Calculate the F-value\n",
    "    f_value = var1 / var2\n",
    "    # Calculate the degrees of freedom for each dataset\n",
    "    df1 = len(data1) - 1\n",
    "    df2 = len(data2) - 1\n",
    "    # Calculate the p-value using the F-distribution\n",
    "    p_value = 1 - stats.f.cdf(f_value, df1, df2)\n",
    "    return f_value, p_value\n",
    "\n",
    "# Example usage:\n",
    "data1 = [23, 27, 30, 21, 25]\n",
    "data2 = [18, 22, 19, 30, 28]\n",
    "\n",
    "f_value, p_value = variance_ratio_test(data1, data2)\n",
    "print(\"F-value:\", f_value)\n",
    "print(\"p-value:\", p_value)\n",
    "\n"
   ]
  },
  {
   "cell_type": "markdown",
   "id": "95122273-0cdf-4493-9027-b5878ff51ef4",
   "metadata": {},
   "source": [
    "# Q2. Given a significance level of 0.05 and the degrees of freedom for the numerator and denominator of an F-distribution, write a Python function that returns the critical F-value for a two-tailed test."
   ]
  },
  {
   "cell_type": "code",
   "execution_count": 2,
   "id": "4bc649ba-598e-452d-901b-3e1f2b226682",
   "metadata": {},
   "outputs": [
    {
     "name": "stdout",
     "output_type": "stream",
     "text": [
      "Critical F-Value: 3.8586986662732143\n"
     ]
    }
   ],
   "source": [
    "import scipy.stats as stats\n",
    "def get_critical_f_value(alpha, df1, df2):\n",
    "    \"\"\"\n",
    "    Calculate the critical F-value for a two-tailed test given a significance level (alpha)\n",
    "    and degrees of freedom for the numerator (df1) and denominator (df2) of an F-distribution.\n",
    "\n",
    "    Parameters:\n",
    "    alpha (float): The significance level (e.g., 0.05 for a 95% confidence level).\n",
    "    df1 (int): Degrees of freedom for the numerator.\n",
    "    df2 (int): Degrees of freedom for the denominator.\n",
    "\n",
    "    Returns:\n",
    "    critical_f_value (float): The critical F-value for the two-tailed test.\n",
    "    \"\"\"\n",
    "    # Calculate the critical F-value for a two-tailed test\n",
    "    critical_f_value = stats.f.ppf(1 - alpha / 2, df1, df2)\n",
    "    return critical_f_value\n",
    "# Example usage:\n",
    "alpha = 0.05  # Significance level\n",
    "df1 = 3       # Degrees of freedom for the numerator\n",
    "df2 = 20      # Degrees of freedom for the denominator\n",
    "critical_f = get_critical_f_value(alpha, df1, df2)\n",
    "print(\"Critical F-Value:\", critical_f)"
   ]
  },
  {
   "cell_type": "markdown",
   "id": "b53e8204-24dc-414e-8aeb-cf03243556e2",
   "metadata": {},
   "source": [
    "# Q3. Write a Python program that generates random samples from two normal distributions with known variances and uses an F-test to determine if the variances are equal. The program should output the F - value, degrees of freedom, and p-value for the test."
   ]
  },
  {
   "cell_type": "code",
   "execution_count": 4,
   "id": "7eafbc30-9e44-4d73-aba1-f426d7d96582",
   "metadata": {},
   "outputs": [
    {
     "ename": "AttributeError",
     "evalue": "module 'scipy.stats' has no attribute 'ftest'",
     "output_type": "error",
     "traceback": [
      "\u001b[0;31m---------------------------------------------------------------------------\u001b[0m",
      "\u001b[0;31mAttributeError\u001b[0m                            Traceback (most recent call last)",
      "Cell \u001b[0;32mIn[4], line 14\u001b[0m\n\u001b[1;32m     12\u001b[0m sample2 \u001b[38;5;241m=\u001b[39m np\u001b[38;5;241m.\u001b[39mrandom\u001b[38;5;241m.\u001b[39mnormal(\u001b[38;5;241m0\u001b[39m, np\u001b[38;5;241m.\u001b[39msqrt(variance2), sample_size2)\n\u001b[1;32m     13\u001b[0m \u001b[38;5;66;03m# Perform an F-test for equality of variances\u001b[39;00m\n\u001b[0;32m---> 14\u001b[0m f_statistic, p_value \u001b[38;5;241m=\u001b[39m \u001b[43mstats\u001b[49m\u001b[38;5;241;43m.\u001b[39;49m\u001b[43mftest\u001b[49m (sample1\u001b[38;5;241m.\u001b[39mvar(ddof\u001b[38;5;241m=\u001b[39m\u001b[38;5;241m1\u001b[39m), sample2\u001b[38;5;241m.\u001b[39mvar(ddof\u001b[38;5;241m=\u001b[39m\u001b[38;5;241m1\u001b[39m), sample_size1 \u001b[38;5;241m-\u001b[39m \u001b[38;5;241m1\u001b[39m, sample_size2 \u001b[38;5;241m-\u001b[39m \u001b[38;5;241m1\u001b[39m)\n\u001b[1;32m     15\u001b[0m \u001b[38;5;66;03m# Calculate degrees of freedom\u001b[39;00m\n\u001b[1;32m     16\u001b[0m df1 \u001b[38;5;241m=\u001b[39m sample_size1 \u001b[38;5;241m-\u001b[39m \u001b[38;5;241m1\u001b[39m\n",
      "\u001b[0;31mAttributeError\u001b[0m: module 'scipy.stats' has no attribute 'ftest'"
     ]
    }
   ],
   "source": [
    "import numpy as np\n",
    "import scipy.stats as stats\n",
    "# Set the random seed for reproducibility\n",
    "np.random.seed(0)\n",
    "# Generate random samples from two normal distributions with known variances\n",
    "variance1 = 5  # Variance of the first distribution\n",
    "variance2 = 8  # Variance of the second distribution\n",
    "sample_size1 = 30  # Sample size for the first distribution\n",
    "sample_size2 = 30  # Sample size for the second distribution\n",
    "# Generate random samples\n",
    "sample1 = np.random.normal(0, np.sqrt(variance1), sample_size1)\n",
    "sample2 = np.random.normal(0, np.sqrt(variance2), sample_size2)\n",
    "# Perform an F-test for equality of variances\n",
    "f_statistic, p_value = stats.ftest (sample1.var(ddof=1), sample2.var(ddof=1), sample_size1 - 1, sample_size2 - 1)\n",
    "# Calculate degrees of freedom\n",
    "df1 = sample_size1 - 1\n",
    "df2 = sample_size2 - 1\n",
    "# Print the results\n",
    "print(\"F-Value:\", f_statistic)\n",
    "print(\"Degrees of Freedom (numerator, denominator):\", df1, \",\", df2)\n",
    "print(\"p-Value:\", p_value)\n",
    "# Set the significance level (alpha)\n",
    "alpha = 0.05\n",
    "# Interpret the F-test results\n",
    "if p_value < alpha:\n",
    "    print(\"The p-value is less than the significance level (alpha).\")\n",
    "    print(\"Reject the null hypothesis: Variances are not equal.\")\n",
    "else:\n",
    "    print(\"The p-value is greater than or equal to the significance level (alpha).\")\n",
    "    print(\"Fail to reject the null hypothesis: Variances are equal.\")"
   ]
  },
  {
   "cell_type": "markdown",
   "id": "5fa2d792-9e0e-44e4-928c-76129d408a20",
   "metadata": {},
   "source": [
    "# Q4.The variances of two populations are known to be 10 and 15. A sample of 12 observations is taken from each population. Conduct an F-test at the 5% significance level to determine if the variances are significantly different."
   ]
  },
  {
   "cell_type": "code",
   "execution_count": 5,
   "id": "5053de35-800d-456b-85d9-887eb6f2fc7d",
   "metadata": {},
   "outputs": [
    {
     "name": "stdout",
     "output_type": "stream",
     "text": [
      "F-Statistic: 0.6666666666666666\n",
      "Degrees of Freedom (numerator, denominator): 11 , 11\n",
      "Critical F-Value: 3.473699051085809\n",
      "p-Value: 0.5123897987357996\n",
      "The p-value is greater than or equal to the significance level (alpha).\n",
      "Fail to reject the null hypothesis: Variances are equal.\n"
     ]
    }
   ],
   "source": [
    "import scipy.stats as stats\n",
    "# Known population variances\n",
    "variance1 = 10  # Variance of Population 1\n",
    "variance2 = 15  # Variance of Population 2\n",
    "# Sample sizes\n",
    "n1 = 12\n",
    "n2 = 12\n",
    "# Calculate the F-statistic\n",
    "f_statistic = variance1 / variance2\n",
    "# Degrees of freedom for the numerator and denominator\n",
    "df1 = n1 - 1\n",
    "df2 = n2 - 1\n",
    "# Calculate the critical F-value for a two-tailed test at alpha = 0.05\n",
    "alpha = 0.05\n",
    "critical_f_value = stats.f.ppf(1 - alpha / 2, df1, df2)\n",
    "# Perform the F-test\n",
    "p_value = 2 * min(stats.f.cdf(f_statistic, df1, df2), 1 - stats.f.cdf(f_statistic, df1, df2))\n",
    "# Print the results\n",
    "print(\"F-Statistic:\", f_statistic)\n",
    "print(\"Degrees of Freedom (numerator, denominator):\", df1, \",\", df2)\n",
    "print(\"Critical F-Value:\", critical_f_value)\n",
    "print(\"p-Value:\", p_value)\n",
    "# Interpret the F-test results\n",
    "if p_value < alpha:\n",
    "    print(\"The p-value is less than the significance level (alpha).\")\n",
    "    print(\"Reject the null hypothesis: Variances are not equal.\")\n",
    "else:\n",
    "    print(\"The p-value is greater than or equal to the significance level (alpha).\")\n",
    "    print(\"Fail to reject the null hypothesis: Variances are equal.\")"
   ]
  },
  {
   "cell_type": "markdown",
   "id": "c813bf63-4ddb-4406-9966-e08e825f2e66",
   "metadata": {},
   "source": [
    "# Q5. A manufacturer claims that the variance of the diameter of a certain product is 0.005. A sample of 25 products is taken, and the sample variance is found to be 0.006. Conduct an F-test at the 1% significance level to determine if the claim is justified."
   ]
  },
  {
   "cell_type": "code",
   "execution_count": 6,
   "id": "2946ad90-800a-4140-b536-8fdb14d16e5e",
   "metadata": {},
   "outputs": [
    {
     "name": "stdout",
     "output_type": "stream",
     "text": [
      "F-Statistic: 1.2\n",
      "Degrees of Freedom (numerator, denominator): 24 , 1\n",
      "Critical F-Value: 24939.565259943236\n",
      "p-Value: 0.7407800760081285\n",
      "The p-value is greater than or equal to the significance level (alpha).\n",
      "Fail to reject the null hypothesis: The claim is justified.\n"
     ]
    }
   ],
   "source": [
    "import scipy.stats as stats\n",
    "# Manufacturer's claim about the population variance\n",
    "claimed_variance = 0.005\n",
    "# Sample variance from the sample of 25 products\n",
    "sample_variance = 0.006\n",
    "# Sample size\n",
    "n = 25\n",
    "# Degrees of freedom for the numerator and denominator\n",
    "df1 = n - 1\n",
    "df2 = 1  # Since there's only one sample variance\n",
    "# Calculate the F-statistic\n",
    "f_statistic = sample_variance / claimed_variance\n",
    "# Calculate the critical F-value for a two-tailed test at alpha = 0.01\n",
    "alpha = 0.01\n",
    "critical_f_value = stats.f.ppf(1 - alpha / 2, df1, df2)\n",
    "# Calculate the p-value\n",
    "p_value = 2 * min(stats.f.cdf(f_statistic, df1, df2), 1 - stats.f.cdf(f_statistic, df1, df2))\n",
    "# Print the results\n",
    "print(\"F-Statistic:\", f_statistic)\n",
    "print(\"Degrees of Freedom (numerator, denominator):\", df1, \",\", df2)\n",
    "print(\"Critical F-Value:\", critical_f_value)\n",
    "print(\"p-Value:\", p_value)\n",
    "# Interpret the F-test results\n",
    "if p_value < alpha:\n",
    "    print(\"The p-value is less than the significance level (alpha).\")\n",
    "    print(\"Reject the null hypothesis: The claim is not justified.\")\n",
    "else:\n",
    "    print(\"The p-value is greater than or equal to the significance level (alpha).\")\n",
    "    print(\"Fail to reject the null hypothesis: The claim is justified.\")"
   ]
  },
  {
   "cell_type": "markdown",
   "id": "f59b88d6-7d36-4a72-83c9-1c413c4c1e14",
   "metadata": {},
   "source": [
    "# Q6. Write a Python function that takes in the degrees of freedom for the numerator and denominator of an F-distribution and calculates the mean and variance of the distribution. The function should return the mean and variance as a tuple."
   ]
  },
  {
   "cell_type": "code",
   "execution_count": 7,
   "id": "c9e382a1-89dd-440e-a98b-a6d169886232",
   "metadata": {},
   "outputs": [
    {
     "name": "stdout",
     "output_type": "stream",
     "text": [
      "Mean: 1.1111111111111112\n",
      "Variance: 1.0802469135802468\n"
     ]
    }
   ],
   "source": [
    "def f_distribution_mean_and_variance(df1, df2):\n",
    "    \"\"\"\n",
    "    Calculate the mean and variance of an F-distribution.\n",
    "\n",
    "    Parameters:\n",
    "    df1 (int): Degrees of freedom for the numerator.\n",
    "    df2 (int): Degrees of freedom for the denominator.\n",
    "\n",
    "    Returns:\n",
    "    mean (float): Mean of the F-distribution.\n",
    "    variance (float): Variance of the F-distribution.\n",
    "    \"\"\"\n",
    "    \n",
    "    if df1 <= 0 or df2 <= 0:\n",
    "        raise ValueError(\"Degrees of freedom must be greater than zero.\")\n",
    "    \n",
    "    if df2 <= 2:\n",
    "        raise ValueError(\"Degrees of freedom for the denominator must be greater than 2.\")\n",
    "    \n",
    "    if df1 >= 2:\n",
    "        mean = df2 / (df2 - 2)\n",
    "        variance = (2 * df2 ** 2 * (df1 + df2 - 2)) / (df1 * (df2 - 2) ** 2 * (df2 - 4))\n",
    "    else:\n",
    "        mean = float('inf')  # Mean is undefined when df1 < 2\n",
    "        variance = float('inf')  # Variance is undefined when df1 < 2\n",
    "    \n",
    "    return mean, variance\n",
    "\n",
    "# Example usage:\n",
    "df1 = 3\n",
    "df2 = 20\n",
    "\n",
    "mean, variance = f_distribution_mean_and_variance(df1, df2)\n",
    "print(\"Mean:\", mean)\n",
    "print(\"Variance:\", variance)\n"
   ]
  },
  {
   "cell_type": "markdown",
   "id": "884826d8-3e8a-4547-8f00-5a2132ece417",
   "metadata": {},
   "source": [
    "# Q7. A random sample of 10 measurements is taken from a normal population with unknown variance. The sample variance is found to be 25. Another random sample of 15 measurements is taken from another normal population with unknown variance, and the sample variance is found to be 20. Conduct an F-test at the 10% significance level to determine if the variances are significantly different."
   ]
  },
  {
   "cell_type": "markdown",
   "id": "dc4922fc-a12d-4eed-a19b-7f233cd3ad40",
   "metadata": {},
   "source": [
    "Sample 1: A random sample of 10 measurements with a sample variance of 25.\n",
    "\n",
    "Sample 2: Another random sample of 15 measurements with a sample variance of 20.\n",
    "\n",
    "Significance level (α): 10%\n",
    "\n",
    "The null hypothesis (H0) is that the variances are equal\n",
    "and the alternative hypothesis (H1) is that the variances are not equal "
   ]
  },
  {
   "cell_type": "code",
   "execution_count": 8,
   "id": "aed287c3-b225-4b6c-a0f4-6d004e443597",
   "metadata": {},
   "outputs": [
    {
     "name": "stdout",
     "output_type": "stream",
     "text": [
      "F-Statistic: 1.25\n",
      "Degrees of Freedom (numerator, denominator): 9 , 14\n",
      "Critical F-Value: 2.6457907352338195\n",
      "p-Value: 0.6832194382585954\n",
      "The p-value is greater than or equal to the significance level (alpha).\n",
      "Fail to reject the null hypothesis: Variances are equal.\n"
     ]
    }
   ],
   "source": [
    "import scipy.stats as stats\n",
    "# Sample variances\n",
    "sample_variance1 = 25\n",
    "sample_variance2 = 20\n",
    "# Sample sizes\n",
    "n1 = 10\n",
    "n2 = 15\n",
    "# Calculate the F-statistic\n",
    "f_statistic = sample_variance1 / sample_variance2\n",
    "# Degrees of freedom for the numerator and denominator\n",
    "df1 = n1 - 1\n",
    "df2 = n2 - 1\n",
    "# Calculate the critical F-value for a two-tailed test at alpha = 0.10\n",
    "alpha = 0.10\n",
    "critical_f_value = stats.f.ppf(1 - alpha / 2, df1, df2)\n",
    "# Calculate the p-value\n",
    "p_value = 2 * min(stats.f.cdf(f_statistic, df1, df2), 1 - stats.f.cdf(f_statistic, df1, df2))\n",
    "# Print the results\n",
    "print(\"F-Statistic:\", f_statistic)\n",
    "print(\"Degrees of Freedom (numerator, denominator):\", df1, \",\", df2)\n",
    "print(\"Critical F-Value:\", critical_f_value)\n",
    "print(\"p-Value:\", p_value)\n",
    "# Interpret the F-test results\n",
    "if p_value < alpha:\n",
    "    print(\"The p-value is less than the significance level (alpha).\")\n",
    "    print(\"Reject the null hypothesis: Variances are not equal.\")\n",
    "else:\n",
    "    print(\"The p-value is greater than or equal to the significance level (alpha).\")\n",
    "    print(\"Fail to reject the null hypothesis: Variances are equal.\")"
   ]
  },
  {
   "cell_type": "markdown",
   "id": "2429b43f-2938-4703-9c1e-ee8880209fdd",
   "metadata": {},
   "source": [
    "# Q8. The following data represent the waiting times in minutes at two different restaurants on a Saturday night: Restaurant A: 24, 25, 28, 23, 22, 20, 27; Restaurant B: 31, 33, 35, 30, 32, 36. Conduct an F-test at the 5% significance level to determine if the variances are significantly different."
   ]
  },
  {
   "cell_type": "markdown",
   "id": "cf6d2523-affc-4137-940d-c384d20d60c8",
   "metadata": {},
   "source": [
    "Restaurant A waiting times: 24, 25, 28, 23, 22, 20, 27\n",
    "\n",
    "Restaurant B waiting times: 31, 33, 35, 30, 32, 36\n",
    "\n",
    "If the variances of waiting times at the two restaurants are significantly different at a 5% significance level (α = 0.05). \n",
    "\n",
    "The null hypothesis (H0) is that the variances are equal.\n",
    "\n",
    "The alternative hypothesis (H1) is that the variances are not equal."
   ]
  },
  {
   "cell_type": "code",
   "execution_count": 9,
   "id": "779cbdda-5fe5-4715-b6fc-0daf3e5743bd",
   "metadata": {},
   "outputs": [
    {
     "name": "stdout",
     "output_type": "stream",
     "text": [
      "F-Statistic: 1.4551907719609583\n",
      "Degrees of Freedom (numerator, denominator): 6 , 5\n",
      "Critical F-Value: 6.977701858535566\n",
      "p-Value: 0.6974815747937484\n",
      "The p-value is greater than or equal to the significance level (alpha).\n",
      "Fail to reject the null hypothesis: Variances are equal.\n"
     ]
    }
   ],
   "source": [
    "import scipy.stats as stats\n",
    "# Waiting times data for Restaurant A and Restaurant B\n",
    "waiting_times_A = [24, 25, 28, 23, 22, 20, 27]\n",
    "waiting_times_B = [31, 33, 35, 30, 32, 36]\n",
    "# Calculate sample variances\n",
    "variance_A = sum((x - sum(waiting_times_A) / len(waiting_times_A))**2 for x in waiting_times_A) / (len(waiting_times_A) - 1)\n",
    "variance_B = sum((x - sum(waiting_times_B) / len(waiting_times_B))**2 for x in waiting_times_B) / (len(waiting_times_B) - 1)\n",
    "# Calculate the F-statistic\n",
    "f_statistic = variance_A / variance_B\n",
    "# Degrees of freedom for the numerator and denominator\n",
    "df1 = len(waiting_times_A) - 1\n",
    "df2 = len(waiting_times_B) - 1\n",
    "# Calculate the critical F-value for a two-tailed test at alpha = 0.05\n",
    "alpha = 0.05\n",
    "critical_f_value = stats.f.ppf(1 - alpha / 2, df1, df2)\n",
    "# Calculate the p-value\n",
    "p_value = 2 * min(stats.f.cdf(f_statistic, df1, df2), 1 - stats.f.cdf(f_statistic, df1, df2))\n",
    "# Print the results\n",
    "print(\"F-Statistic:\", f_statistic)\n",
    "print(\"Degrees of Freedom (numerator, denominator):\", df1, \",\", df2)\n",
    "print(\"Critical F-Value:\", critical_f_value)\n",
    "print(\"p-Value:\", p_value)\n",
    "# Interpret the F-test results\n",
    "if p_value < alpha:\n",
    "    print(\"The p-value is less than the significance level (alpha).\")\n",
    "    print(\"Reject the null hypothesis: Variances are not equal.\")\n",
    "else:\n",
    "    print(\"The p-value is greater than or equal to the significance level (alpha).\")\n",
    "    print(\"Fail to reject the null hypothesis: Variances are equal.\")"
   ]
  },
  {
   "cell_type": "markdown",
   "id": "66b27b22-2458-4fa9-bf42-2c7c6d4aaeff",
   "metadata": {},
   "source": [
    "# Q9. The following data represent the test scores of two groups of students: Group A: 80, 85, 90, 92, 87, 83; Group B: 75, 78, 82, 79, 81, 84. Conduct an F-test at the 1% significance level to determine if the variances are significantly different."
   ]
  },
  {
   "cell_type": "markdown",
   "id": "fc5c8297-3ae2-4ca9-94ae-01a1e356e88c",
   "metadata": {},
   "source": [
    "Group A test scores: 80, 85, 90, 92, 87, 83\n",
    "\n",
    "Group B test scores: 75, 78, 82, 79, 81, 84\n",
    "\n",
    "If the variances of test scores in the two groups are significantly different at a 1% significance level (α=0.01).\n",
    "\n",
    "The null hypothesis (H0) is that the variances are equal\n",
    "\n",
    "The alternative hypothesis (H1) is that the variances are not equal"
   ]
  },
  {
   "cell_type": "code",
   "execution_count": 10,
   "id": "80f9261a-222a-4f83-b573-9b1beaeeae6d",
   "metadata": {},
   "outputs": [
    {
     "name": "stdout",
     "output_type": "stream",
     "text": [
      "F-Statistic: 1.9442622950819677\n",
      "Degrees of Freedom (numerator, denominator): 5 , 5\n",
      "Critical F-Value: 14.939605459912224\n",
      "p-Value: 0.4831043549070688\n",
      "The p-value is greater than or equal to the significance level (alpha).\n",
      "Fail to reject the null hypothesis: Variances are equal.\n"
     ]
    }
   ],
   "source": [
    "import scipy.stats as stats\n",
    "# Test scores data for Group A and Group B\n",
    "test_scores_A = [80, 85, 90, 92, 87, 83]\n",
    "test_scores_B = [75, 78, 82, 79, 81, 84]\n",
    "# Calculate sample variances\n",
    "variance_A = sum((x - sum(test_scores_A) / len(test_scores_A))**2 for x in test_scores_A) / (len(test_scores_A) - 1)\n",
    "variance_B = sum((x - sum(test_scores_B) / len(test_scores_B))**2 for x in test_scores_B) / (len(test_scores_B) - 1)\n",
    "# Calculate the F-statistic\n",
    "f_statistic = variance_A / variance_B\n",
    "# Degrees of freedom for the numerator and denominator\n",
    "df1 = len(test_scores_A) - 1\n",
    "df2 = len(test_scores_B) - 1\n",
    "# Calculate the critical F-value for a two-tailed test at alpha = 0.01\n",
    "alpha = 0.01\n",
    "critical_f_value = stats.f.ppf(1 - alpha / 2, df1, df2)\n",
    "# Calculate the p-value\n",
    "p_value = 2 * min(stats.f.cdf(f_statistic, df1, df2), 1 - stats.f.cdf(f_statistic, df1, df2))\n",
    "# Print the results\n",
    "print(\"F-Statistic:\", f_statistic)\n",
    "print(\"Degrees of Freedom (numerator, denominator):\", df1, \",\", df2)\n",
    "print(\"Critical F-Value:\", critical_f_value)\n",
    "print(\"p-Value:\", p_value)\n",
    "# Interpret the F-test results\n",
    "if p_value < alpha:\n",
    "    print(\"The p-value is less than the significance level (alpha).\")\n",
    "    print(\"Reject the null hypothesis: Variances are not equal.\")\n",
    "else:\n",
    "    print(\"The p-value is greater than or equal to the significance level (alpha).\")\n",
    "    print(\"Fail to reject the null hypothesis: Variances are equal.\")"
   ]
  },
  {
   "cell_type": "code",
   "execution_count": null,
   "id": "5205043c-2a2d-42fc-ad73-ea904cd21644",
   "metadata": {},
   "outputs": [],
   "source": []
  }
 ],
 "metadata": {
  "kernelspec": {
   "display_name": "Python 3 (ipykernel)",
   "language": "python",
   "name": "python3"
  },
  "language_info": {
   "codemirror_mode": {
    "name": "ipython",
    "version": 3
   },
   "file_extension": ".py",
   "mimetype": "text/x-python",
   "name": "python",
   "nbconvert_exporter": "python",
   "pygments_lexer": "ipython3",
   "version": "3.10.8"
  }
 },
 "nbformat": 4,
 "nbformat_minor": 5
}
